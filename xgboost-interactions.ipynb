{
 "cells": [
  {
   "cell_type": "code",
   "execution_count": 7,
   "metadata": {},
   "outputs": [],
   "source": [
    "import pandas as pd\n",
    "import numpy as np\n",
    "from sklearn.model_selection import train_test_split\n",
    "from sklearn.metrics import mean_squared_error\n",
    "from xgboost import XGBRegressor"
   ]
  },
  {
   "cell_type": "code",
   "execution_count": 8,
   "metadata": {},
   "outputs": [],
   "source": [
    "# Load CSV\n",
    "df = pd.read_csv(\"space_mountain_with_holiday_weather_lag_suite.csv\")\n",
    "\n",
    "# Extract year\n",
    "df['Year'] = df['Date'].apply(lambda x: x.split('/')[-1])\n",
    "\n",
    "# Filter time range\n",
    "df = df[df['Time of Day'] >= 450]\n",
    "\n",
    "# One-hot encode Day of Week\n",
    "df = pd.get_dummies(df, columns=['Day of Week'], drop_first=True)\n",
    "\n",
    "# Feature interactions\n",
    "df['Lag1_x_Temp'] = df['Lag1_Wait_Time'] * df['Temperature']\n",
    "df['Holiday_x_Time'] = df['Is_Holiday'].astype(int) * df['Time of Day']\n",
    "df['Rain'] = (df['Precipitation'] > 0.1).astype(int)\n",
    "df['Time_sq'] = df['Time of Day'] ** 2\n",
    "\n",
    "# Define train and test years\n",
    "train_years = ['14', '15', '16', '17', '18', '19', '22']\n",
    "test_years = ['23', '24', '25']\n",
    "\n",
    "# Split data\n",
    "train_df = df[df['Year'].isin(train_years)]\n",
    "test_df = df[df['Year'].isin(test_years)]\n",
    "\n",
    "# Define features and target\n",
    "drop_cols = ['Wait Time', 'Date', 'Time', 'Year', 'Month']\n",
    "X_train = train_df.drop(columns=drop_cols)\n",
    "y_train = train_df['Wait Time']\n",
    "X_test = test_df.drop(columns=drop_cols)\n",
    "y_test = test_df['Wait Time']"
   ]
  },
  {
   "cell_type": "code",
   "execution_count": 9,
   "metadata": {},
   "outputs": [
    {
     "name": "stdout",
     "output_type": "stream",
     "text": [
      "XGBoost RMSE with interactions: 16.82\n"
     ]
    }
   ],
   "source": [
    "model = XGBRegressor(n_estimators=100, learning_rate=0.1, max_depth=6, random_state=42)\n",
    "model.fit(X_train, y_train)\n",
    "\n",
    "# Predict and evaluate\n",
    "y_pred = model.predict(X_test)\n",
    "rmse = np.sqrt(mean_squared_error(y_test, y_pred))\n",
    "print(f\"XGBoost RMSE with interactions: {rmse:.2f}\")"
   ]
  }
 ],
 "metadata": {
  "kernelspec": {
   "display_name": "base",
   "language": "python",
   "name": "python3"
  },
  "language_info": {
   "codemirror_mode": {
    "name": "ipython",
    "version": 3
   },
   "file_extension": ".py",
   "mimetype": "text/x-python",
   "name": "python",
   "nbconvert_exporter": "python",
   "pygments_lexer": "ipython3",
   "version": "3.12.9"
  }
 },
 "nbformat": 4,
 "nbformat_minor": 5
}
