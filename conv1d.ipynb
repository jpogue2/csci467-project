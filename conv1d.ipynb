{
 "cells": [
  {
   "cell_type": "code",
   "execution_count": null,
   "metadata": {},
   "outputs": [],
   "source": [
    "import pandas as pd\n",
    "import numpy as np\n",
    "from sklearn.preprocessing import StandardScaler\n",
    "from sklearn.metrics import mean_squared_error\n",
    "import tensorflow as tf\n",
    "from tensorflow.keras.models import Sequential\n",
    "from tensorflow.keras.layers import Conv1D, Dense, Dropout, Flatten, MaxPooling1D"
   ]
  },
  {
   "cell_type": "code",
   "execution_count": null,
   "metadata": {},
   "outputs": [],
   "source": [
    "# Load data\n",
    "df = pd.read_csv(\"space_mountain_with_holiday_weather_lag_suite.csv\")\n",
    "\n",
    "# Parse date\n",
    "df['Date'] = pd.to_datetime(df['Date'], format='%m/%d/%y')\n",
    "df['Datetime'] = pd.to_datetime(df['Date'].astype(str) + ' ' + df['Time'])\n",
    "df.sort_values('Datetime', inplace=True)\n",
    "\n",
    "# One-hot encode Day of Week\n",
    "df = pd.get_dummies(df, columns=['Day of Week'], drop_first=True)\n",
    "\n",
    "# Drop unused columns\n",
    "df.drop(columns=['Date', 'Time', 'Datetime'], inplace=True)\n",
    "\n",
    "# Scale all features\n",
    "scaler = StandardScaler()\n",
    "scaled = scaler.fit_transform(df)\n",
    "scaled_df = pd.DataFrame(scaled, columns=df.columns)"
   ]
  },
  {
   "cell_type": "code",
   "execution_count": null,
   "metadata": {},
   "outputs": [],
   "source": [
    "SEQUENCE_LENGTH = 12\n",
    "X, y = [], []\n",
    "features = scaled_df.drop(columns=['Wait Time']).values\n",
    "wait_values = scaled_df['Wait Time'].values\n",
    "\n",
    "for i in range(SEQUENCE_LENGTH, len(scaled_df)):\n",
    "    X.append(features[i-SEQUENCE_LENGTH:i])\n",
    "    y.append(wait_values[i])\n",
    "\n",
    "X = np.array(X)\n",
    "y = np.array(y)\n",
    "\n",
    "# Train/test split\n",
    "split_index = int(0.8 * len(X))\n",
    "X_train, X_test = X[:split_index], X[split_index:]\n",
    "y_train, y_test = y[:split_index], y[split_index:]"
   ]
  },
  {
   "cell_type": "code",
   "execution_count": null,
   "metadata": {},
   "outputs": [],
   "source": [
    "model = Sequential()\n",
    "model.add(Conv1D(filters=64, kernel_size=3, activation='relu', input_shape=(X_train.shape[1], X_train.shape[2])))\n",
    "model.add(MaxPooling1D(pool_size=2))\n",
    "model.add(Dropout(0.3))\n",
    "model.add(Flatten())\n",
    "model.add(Dense(64, activation='relu'))\n",
    "model.add(Dense(1))\n",
    "\n",
    "model.compile(optimizer='adam', loss='mse')\n",
    "model.summary()\n",
    "\n",
    "# Train\n",
    "history = model.fit(X_train, y_train, epochs=20, batch_size=32, validation_split=0.1, verbose=1)"
   ]
  },
  {
   "cell_type": "code",
   "execution_count": null,
   "metadata": {},
   "outputs": [],
   "source": [
    "# Predict\n",
    "y_pred = model.predict(X_test)\n",
    "\n",
    "# Inverse transform to real wait time\n",
    "wait_scaler = StandardScaler()\n",
    "wait_scaler.fit(df[['Wait Time']])\n",
    "y_pred_unscaled = wait_scaler.inverse_transform(y_pred)\n",
    "y_test_unscaled = wait_scaler.inverse_transform(y_test.reshape(-1, 1))\n",
    "\n",
    "real_rmse = np.sqrt(mean_squared_error(y_test_unscaled, y_pred_unscaled))\n",
    "print(f\"Conv1D Unscaled RMSE (in minutes): {real_rmse:.2f}\")"
   ]
  }
 ],
 "metadata": {
  "kernelspec": {
   "display_name": "Python 3",
   "language": "python",
   "name": "python3"
  },
  "language_info": {
   "name": "python",
   "version": "3.9"
  }
 },
 "nbformat": 4,
 "nbformat_minor": 5
}
