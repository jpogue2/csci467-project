{
 "cells": [
  {
   "cell_type": "code",
   "execution_count": 1,
   "id": "abb1426c",
   "metadata": {},
   "outputs": [],
   "source": [
    "import pandas as pd\n",
    "import numpy as np\n",
    "import matplotlib.pyplot as plt\n",
    "from sklearn.metrics import mean_squared_error\n",
    "from sklearn.neural_network import MLPRegressor\n",
    "from sklearn.preprocessing import StandardScaler\n",
    "from itertools import product"
   ]
  },
  {
   "cell_type": "code",
   "execution_count": 2,
   "id": "95117d0b",
   "metadata": {},
   "outputs": [],
   "source": [
    "# read input file\n",
    "filepath = \"space_mountain_with_holiday_weather_lag_new.csv\"\n",
    "df = pd.read_csv(filepath)"
   ]
  },
  {
   "cell_type": "code",
   "execution_count": 3,
   "id": "9dc4daa2",
   "metadata": {},
   "outputs": [],
   "source": [
    "# one hot encode the Day of Week column\n",
    "df = pd.get_dummies(df, columns=['Day of Week']) "
   ]
  },
  {
   "cell_type": "code",
   "execution_count": 4,
   "id": "e25bf86e",
   "metadata": {},
   "outputs": [
    {
     "name": "stdout",
     "output_type": "stream",
     "text": [
      "Train size: (30844, 26)\n",
      "Dev size: (5056, 26)\n",
      "Test size: (7142, 26)\n"
     ]
    }
   ],
   "source": [
    "# ------ SPLITTING DATASET ------\n",
    "train_years = ['14', '15', '16', '17', '18', '19', '22']\n",
    "dev_years = ['23']\n",
    "test_years = ['24', '25']\n",
    "\n",
    "df['Year'] = df['Date'].apply(lambda x: x.split('/')[-1])  # Extract year as a string\n",
    "df = df[df['Time of Day'] >= 450]\n",
    "df['Time_sq'] = df['Time of Day'] ** 2\n",
    "df['Time_sin'] = np.sin(2 * np.pi * df['Time of Day'] / 1440)\n",
    "df['Time_cos'] = np.cos(2 * np.pi * df['Time of Day'] / 1440)\n",
    "\n",
    "train_df = df[df['Year'].isin(train_years)]\n",
    "dev_df = df[df['Year'].isin(dev_years)]\n",
    "test_df = df[df['Year'].isin(test_years)]\n",
    "\n",
    "print(\"Train size:\", train_df.shape)\n",
    "print(\"Dev size:\", dev_df.shape)\n",
    "print(\"Test size:\", test_df.shape)"
   ]
  },
  {
   "cell_type": "code",
   "execution_count": 5,
   "id": "8504d40c",
   "metadata": {},
   "outputs": [],
   "source": [
    "# getting datasets\n",
    "def get_X_y(dataframe):\n",
    "    y = dataframe['Wait Time'].values\n",
    "    X = dataframe.drop(columns=['Wait Time', 'Date', 'Time', 'Year'])\n",
    "    return X, y\n",
    "\n",
    "X_train, y_train = get_X_y(train_df)\n",
    "X_dev, y_dev = get_X_y(dev_df)\n",
    "X_test, y_test = get_X_y(test_df)"
   ]
  },
  {
   "cell_type": "code",
   "execution_count": 6,
   "id": "0260be72",
   "metadata": {},
   "outputs": [],
   "source": [
    "# normalize features (important for MLP)\n",
    "scaler = StandardScaler()\n",
    "X_train_scaled = scaler.fit_transform(X_train)\n",
    "X_dev_scaled = scaler.fit_transform(X_dev)\n",
    "X_test_scaled = scaler.transform(X_test)"
   ]
  },
  {
   "cell_type": "code",
   "execution_count": 7,
   "id": "d324c285",
   "metadata": {},
   "outputs": [],
   "source": [
    "hidden_layers = [(32,), (64,), (64, 32), (128,)]\n",
    "activations = ['relu', 'tanh']\n",
    "learning_rates = [0.001, 0.01]\n",
    "\n",
    "param_grid = list(product(hidden_layers, activations, learning_rates))\n",
    "\n",
    "best_rmse = float('inf')\n",
    "best_params = None\n",
    "best_model = None"
   ]
  },
  {
   "cell_type": "code",
   "execution_count": 8,
   "id": "efcc6387",
   "metadata": {},
   "outputs": [
    {
     "name": "stdout",
     "output_type": "stream",
     "text": [
      "Training MLPs...\n",
      "\n"
     ]
    },
    {
     "name": "stderr",
     "output_type": "stream",
     "text": [
      "/Users/jeremypogue/miniforge3/lib/python3.12/site-packages/sklearn/neural_network/_multilayer_perceptron.py:691: ConvergenceWarning: Stochastic Optimizer: Maximum iterations (300) reached and the optimization hasn't converged yet.\n",
      "  warnings.warn(\n"
     ]
    },
    {
     "name": "stdout",
     "output_type": "stream",
     "text": [
      "hidden_layer_sizes=(32,), activation=relu, lr=0.001 → Dev RMSE: 16.73\n",
      "hidden_layer_sizes=(32,), activation=relu, lr=0.01 → Dev RMSE: 16.59\n"
     ]
    },
    {
     "name": "stderr",
     "output_type": "stream",
     "text": [
      "/Users/jeremypogue/miniforge3/lib/python3.12/site-packages/sklearn/neural_network/_multilayer_perceptron.py:691: ConvergenceWarning: Stochastic Optimizer: Maximum iterations (300) reached and the optimization hasn't converged yet.\n",
      "  warnings.warn(\n"
     ]
    },
    {
     "name": "stdout",
     "output_type": "stream",
     "text": [
      "hidden_layer_sizes=(32,), activation=tanh, lr=0.001 → Dev RMSE: 16.68\n",
      "hidden_layer_sizes=(32,), activation=tanh, lr=0.01 → Dev RMSE: 17.32\n"
     ]
    },
    {
     "name": "stderr",
     "output_type": "stream",
     "text": [
      "/Users/jeremypogue/miniforge3/lib/python3.12/site-packages/sklearn/neural_network/_multilayer_perceptron.py:691: ConvergenceWarning: Stochastic Optimizer: Maximum iterations (300) reached and the optimization hasn't converged yet.\n",
      "  warnings.warn(\n"
     ]
    },
    {
     "name": "stdout",
     "output_type": "stream",
     "text": [
      "hidden_layer_sizes=(64,), activation=relu, lr=0.001 → Dev RMSE: 16.83\n",
      "hidden_layer_sizes=(64,), activation=relu, lr=0.01 → Dev RMSE: 16.81\n"
     ]
    },
    {
     "name": "stderr",
     "output_type": "stream",
     "text": [
      "/Users/jeremypogue/miniforge3/lib/python3.12/site-packages/sklearn/neural_network/_multilayer_perceptron.py:691: ConvergenceWarning: Stochastic Optimizer: Maximum iterations (300) reached and the optimization hasn't converged yet.\n",
      "  warnings.warn(\n"
     ]
    },
    {
     "name": "stdout",
     "output_type": "stream",
     "text": [
      "hidden_layer_sizes=(64,), activation=tanh, lr=0.001 → Dev RMSE: 16.74\n",
      "hidden_layer_sizes=(64,), activation=tanh, lr=0.01 → Dev RMSE: 17.03\n"
     ]
    },
    {
     "name": "stderr",
     "output_type": "stream",
     "text": [
      "/Users/jeremypogue/miniforge3/lib/python3.12/site-packages/sklearn/neural_network/_multilayer_perceptron.py:691: ConvergenceWarning: Stochastic Optimizer: Maximum iterations (300) reached and the optimization hasn't converged yet.\n",
      "  warnings.warn(\n"
     ]
    },
    {
     "name": "stdout",
     "output_type": "stream",
     "text": [
      "hidden_layer_sizes=(64, 32), activation=relu, lr=0.001 → Dev RMSE: 17.73\n",
      "hidden_layer_sizes=(64, 32), activation=relu, lr=0.01 → Dev RMSE: 18.20\n"
     ]
    },
    {
     "name": "stderr",
     "output_type": "stream",
     "text": [
      "/Users/jeremypogue/miniforge3/lib/python3.12/site-packages/sklearn/neural_network/_multilayer_perceptron.py:691: ConvergenceWarning: Stochastic Optimizer: Maximum iterations (300) reached and the optimization hasn't converged yet.\n",
      "  warnings.warn(\n"
     ]
    },
    {
     "name": "stdout",
     "output_type": "stream",
     "text": [
      "hidden_layer_sizes=(64, 32), activation=tanh, lr=0.001 → Dev RMSE: 17.67\n",
      "hidden_layer_sizes=(64, 32), activation=tanh, lr=0.01 → Dev RMSE: 17.68\n"
     ]
    },
    {
     "name": "stderr",
     "output_type": "stream",
     "text": [
      "/Users/jeremypogue/miniforge3/lib/python3.12/site-packages/sklearn/neural_network/_multilayer_perceptron.py:691: ConvergenceWarning: Stochastic Optimizer: Maximum iterations (300) reached and the optimization hasn't converged yet.\n",
      "  warnings.warn(\n"
     ]
    },
    {
     "name": "stdout",
     "output_type": "stream",
     "text": [
      "hidden_layer_sizes=(128,), activation=relu, lr=0.001 → Dev RMSE: 16.79\n",
      "hidden_layer_sizes=(128,), activation=relu, lr=0.01 → Dev RMSE: 18.11\n"
     ]
    },
    {
     "name": "stderr",
     "output_type": "stream",
     "text": [
      "/Users/jeremypogue/miniforge3/lib/python3.12/site-packages/sklearn/neural_network/_multilayer_perceptron.py:691: ConvergenceWarning: Stochastic Optimizer: Maximum iterations (300) reached and the optimization hasn't converged yet.\n",
      "  warnings.warn(\n"
     ]
    },
    {
     "name": "stdout",
     "output_type": "stream",
     "text": [
      "hidden_layer_sizes=(128,), activation=tanh, lr=0.001 → Dev RMSE: 17.04\n",
      "hidden_layer_sizes=(128,), activation=tanh, lr=0.01 → Dev RMSE: 17.88\n"
     ]
    },
    {
     "name": "stderr",
     "output_type": "stream",
     "text": [
      "/Users/jeremypogue/miniforge3/lib/python3.12/site-packages/sklearn/neural_network/_multilayer_perceptron.py:691: ConvergenceWarning: Stochastic Optimizer: Maximum iterations (300) reached and the optimization hasn't converged yet.\n",
      "  warnings.warn(\n"
     ]
    }
   ],
   "source": [
    "print(\"Training MLPs...\\n\")\n",
    "for h, act, lr in param_grid:\n",
    "    model = MLPRegressor(hidden_layer_sizes=h,\n",
    "                         activation=act,\n",
    "                         solver='adam',\n",
    "                         learning_rate_init=lr,\n",
    "                         max_iter=300,\n",
    "                         random_state=42)\n",
    "\n",
    "    model.fit(X_train_scaled, y_train)\n",
    "    y_dev_pred = model.predict(X_dev_scaled)\n",
    "    rmse = np.sqrt(mean_squared_error(y_dev, y_dev_pred))\n",
    "\n",
    "    print(f\"hidden_layer_sizes={h}, activation={act}, lr={lr} → Dev RMSE: {rmse:.2f}\")\n",
    "\n",
    "    if rmse < best_rmse:\n",
    "        best_rmse = rmse\n",
    "        best_params = (h, act, lr)\n",
    "        best_model = model"
   ]
  },
  {
   "cell_type": "code",
   "execution_count": 9,
   "id": "0175596d",
   "metadata": {},
   "outputs": [
    {
     "name": "stdout",
     "output_type": "stream",
     "text": [
      "\n",
      "Best hyperparameters:\n",
      "hidden_layer_sizes=(32,), activation=relu, lr=0.01\n",
      "Test RMSE: 15.35\n"
     ]
    }
   ],
   "source": [
    "print(\"\\nBest hyperparameters:\")\n",
    "print(f\"hidden_layer_sizes={best_params[0]}, activation={best_params[1]}, lr={best_params[2]}\")\n",
    "\n",
    "X_train_dev = np.vstack([X_train_scaled, X_dev_scaled])\n",
    "y_train_dev = np.concatenate([y_train, y_dev])\n",
    "\n",
    "final_model = MLPRegressor(hidden_layer_sizes=best_params[0],\n",
    "                           activation=best_params[1],\n",
    "                           solver='adam',\n",
    "                           learning_rate_init=best_params[2],\n",
    "                           max_iter=300,\n",
    "                           random_state=42)\n",
    "\n",
    "final_model.fit(X_train_dev, y_train_dev)\n",
    "y_test_pred = final_model.predict(X_test_scaled)\n",
    "test_rmse = np.sqrt(mean_squared_error(y_test, y_test_pred))\n",
    "print(f\"Test RMSE: {test_rmse:.2f}\")"
   ]
  },
  {
   "cell_type": "code",
   "execution_count": 10,
   "id": "01fb968e",
   "metadata": {},
   "outputs": [],
   "source": [
    "# # error distribution\n",
    "# errors =  - y_test\n",
    "# plt.figure(figsize=(8, 4))\n",
    "# plt.hist(errors, bins=30, edgecolor='black')\n",
    "# plt.title(\"Distribution of Prediction Errors (MLP)\")\n",
    "# plt.xlabel(\"Prediction Error (Predicted - Actual)\")\n",
    "# plt.ylabel(\"Frequency\")\n",
    "# plt.grid(True)\n",
    "# plt.tight_layout()\n",
    "# plt.show()"
   ]
  }
 ],
 "metadata": {
  "kernelspec": {
   "display_name": "base",
   "language": "python",
   "name": "python3"
  },
  "language_info": {
   "codemirror_mode": {
    "name": "ipython",
    "version": 3
   },
   "file_extension": ".py",
   "mimetype": "text/x-python",
   "name": "python",
   "nbconvert_exporter": "python",
   "pygments_lexer": "ipython3",
   "version": "3.12.9"
  }
 },
 "nbformat": 4,
 "nbformat_minor": 5
}
