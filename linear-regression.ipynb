{
 "cells": [
  {
   "cell_type": "code",
   "execution_count": 41,
   "id": "e0e5e725",
   "metadata": {},
   "outputs": [],
   "source": [
    "import pandas as pd\n",
    "import argparse\n",
    "import numpy as np\n",
    "import matplotlib.pyplot as plt\n",
    "from sklearn.metrics import mean_squared_error\n",
    "import math\n",
    "from sklearn.linear_model import LinearRegression\n",
    "import random "
   ]
  },
  {
   "cell_type": "code",
   "execution_count": 42,
   "id": "bf2e36b0",
   "metadata": {},
   "outputs": [],
   "source": [
    "# read input file\n",
    "filepath = \"space_mountain_with_holiday_weather_lag_suite.csv\"\n",
    "df = pd.read_csv(filepath)"
   ]
  },
  {
   "cell_type": "code",
   "execution_count": 43,
   "id": "9c7ec219",
   "metadata": {},
   "outputs": [],
   "source": [
    "# one hot encode the Day of Week column\n",
    "# drop_first=True is used to avoid multicollinearity (dummy variable trap)\n",
    "df = pd.get_dummies(df, columns=['Day of Week']) "
   ]
  },
  {
   "cell_type": "code",
   "execution_count": 44,
   "id": "5f36fa49",
   "metadata": {},
   "outputs": [
    {
     "data": {
      "text/plain": [
       "((30844, 24), (12198, 24))"
      ]
     },
     "execution_count": 44,
     "metadata": {},
     "output_type": "execute_result"
    }
   ],
   "source": [
    "# ------ SPLITTING DATASET ------\n",
    "# train on 2014 (December), 2015, 2016, 2017, 2018, 2019, 2022 (excluding COVID years)\n",
    "# test on 2023, 2024, 2025 (January - March)\n",
    "train_years = ['14', '15', '16', '17', '18', '19', '22']\n",
    "test_years = ['23', '24', '25']\n",
    "\n",
    "df['Year'] = df['Date'].apply(lambda x: x.split('/')[-1])  # Extract year as a string\n",
    "df = df[df['Time of Day'] >= 450]\n",
    "df['Time_sq'] = df['Time of Day'] ** 2\n",
    "df['Time_sin'] = np.sin(2 * np.pi * df['Time of Day'] / 1440)\n",
    "df['Time_cos'] = np.cos(2 * np.pi * df['Time of Day'] / 1440)\n",
    "\n",
    "train_df = df[df['Year'].isin(train_years)]  # Filter rows where Year is in train_years\n",
    "test_df = df[df['Year'].isin(test_years)]  # Filter rows where Year is in train_years\n",
    "\n",
    "train_df.shape, test_df.shape"
   ]
  },
  {
   "cell_type": "code",
   "execution_count": 45,
   "id": "e84fd3c9",
   "metadata": {},
   "outputs": [
    {
     "name": "stdout",
     "output_type": "stream",
     "text": [
      "X_train:\n",
      "   Month  Time of Day  Is_Holiday  Is_Holiday_Adjacency  Temperature  \\\n",
      "0     12          570       False                 False         11.9   \n",
      "1     12          600       False                 False         16.1   \n",
      "2     12          630       False                 False         16.1   \n",
      "3     12          660       False                 False         18.8   \n",
      "4     12          690       False                 False         18.8   \n",
      "\n",
      "   Precipitation  Lag1_Wait_Time  Lag2_Wait_Time  Lag3_Wait_Time  \\\n",
      "0            0.0            12.0            13.0            10.0   \n",
      "1            0.0             6.0            23.0            29.0   \n",
      "2            0.0             9.0            23.0             7.0   \n",
      "3            0.0            12.0            40.0             7.0   \n",
      "4            0.0            19.0            49.0            43.0   \n",
      "\n",
      "   RollingMean_Lag3  Day of Week_Friday  Day of Week_Monday  \\\n",
      "0         11.666667               False               False   \n",
      "1         19.333333               False               False   \n",
      "2         13.000000               False               False   \n",
      "3         19.666667               False               False   \n",
      "4         37.000000               False               False   \n",
      "\n",
      "   Day of Week_Saturday  Day of Week_Sunday  Day of Week_Thursday  \\\n",
      "0                 False               False                 False   \n",
      "1                 False               False                 False   \n",
      "2                 False               False                 False   \n",
      "3                 False               False                 False   \n",
      "4                 False               False                 False   \n",
      "\n",
      "   Day of Week_Tuesday  Day of Week_Wednesday  Time_sq  Time_sin  Time_cos  \n",
      "0                 True                  False   324900  0.608761 -0.793353  \n",
      "1                 True                  False   360000  0.500000 -0.866025  \n",
      "2                 True                  False   396900  0.382683 -0.923880  \n",
      "3                 True                  False   435600  0.258819 -0.965926  \n",
      "4                 True                  False   476100  0.130526 -0.991445  \n",
      "\n",
      "y_train (first 10):\n",
      "[ 6.  9.  9. 17. 17.  5. 17. 19. 14. 11.]\n",
      "\n",
      "X_test:\n",
      "       Month  Time of Day  Is_Holiday  Is_Holiday_Adjacency  Temperature  \\\n",
      "35878      1          480        True                 False         10.3   \n",
      "35879      1          510        True                 False         10.3   \n",
      "35880      1          540        True                 False         11.2   \n",
      "35881      1          570        True                 False         11.2   \n",
      "35882      1          600        True                 False         12.5   \n",
      "\n",
      "       Precipitation  Lag1_Wait_Time  Lag2_Wait_Time  Lag3_Wait_Time  \\\n",
      "35878            0.0             5.0            10.0             5.0   \n",
      "35879            0.0            35.0            45.0            65.0   \n",
      "35880            0.0            35.0            45.0            30.0   \n",
      "35881            0.0            60.0            45.0            55.0   \n",
      "35882            0.0            60.0            60.0            55.0   \n",
      "\n",
      "       RollingMean_Lag3  Day of Week_Friday  Day of Week_Monday  \\\n",
      "35878          6.666667               False               False   \n",
      "35879         48.333333               False               False   \n",
      "35880         36.666667               False               False   \n",
      "35881         53.333333               False               False   \n",
      "35882         58.333333               False               False   \n",
      "\n",
      "       Day of Week_Saturday  Day of Week_Sunday  Day of Week_Thursday  \\\n",
      "35878                 False                True                 False   \n",
      "35879                 False                True                 False   \n",
      "35880                 False                True                 False   \n",
      "35881                 False                True                 False   \n",
      "35882                 False                True                 False   \n",
      "\n",
      "       Day of Week_Tuesday  Day of Week_Wednesday  Time_sq  Time_sin  Time_cos  \n",
      "35878                False                  False   230400  0.866025 -0.500000  \n",
      "35879                False                  False   260100  0.793353 -0.608761  \n",
      "35880                False                  False   291600  0.707107 -0.707107  \n",
      "35881                False                  False   324900  0.608761 -0.793353  \n",
      "35882                False                  False   360000  0.500000 -0.866025  \n",
      "\n",
      "y_test (first 10):\n",
      "[ 5. 20. 45. 45. 30. 60. 55. 65. 70. 75.]\n"
     ]
    }
   ],
   "source": [
    "# getting datasets\n",
    "y_train = train_df['Wait Time'].values\n",
    "X_train = train_df.drop(columns=['Wait Time', 'Date', 'Time', 'Year'])\n",
    "y_test = test_df['Wait Time'].values\n",
    "X_test = test_df.drop(columns=['Wait Time', 'Date', 'Time', 'Year'])\n",
    "\n",
    "print(\"X_train:\")\n",
    "print(X_train.head())\n",
    "\n",
    "print(\"\\ny_train (first 10):\")\n",
    "print(y_train[:10])\n",
    "\n",
    "print(\"\\nX_test:\")\n",
    "print(X_test.head())\n",
    "\n",
    "print(\"\\ny_test (first 10):\")\n",
    "print(y_test[:10])"
   ]
  },
  {
   "cell_type": "code",
   "execution_count": 46,
   "id": "76b0fecc",
   "metadata": {},
   "outputs": [
    {
     "data": {
      "text/plain": [
       "array([ 2.96797869, 28.96194344, 28.65153582, ..., 59.67432622,\n",
       "       57.62140288, 50.46661597], shape=(12198,))"
      ]
     },
     "execution_count": 46,
     "metadata": {},
     "output_type": "execute_result"
    }
   ],
   "source": [
    "# create linear regression model\n",
    "model = LinearRegression()\n",
    "model.fit(X_train, y_train)\n",
    "\n",
    "y_pred = model.predict(X_test)\n",
    "y_pred"
   ]
  },
  {
   "cell_type": "code",
   "execution_count": 47,
   "id": "dd6495fe",
   "metadata": {},
   "outputs": [
    {
     "name": "stdout",
     "output_type": "stream",
     "text": [
      "RMSE: 16.69792536546807\n"
     ]
    }
   ],
   "source": [
    "rmse = np.sqrt(mean_squared_error(y_test, y_pred))\n",
    "\n",
    "print(\"RMSE: {}\".format(rmse))"
   ]
  },
  {
   "cell_type": "code",
   "execution_count": 48,
   "id": "33412be3",
   "metadata": {},
   "outputs": [
    {
     "data": {
      "image/png": "[encoded data removed]",
      "text/plain": [
       "<Figure size 800x400 with 1 Axes>"
      ]
     },
     "metadata": {},
     "output_type": "display_data"
    }
   ],
   "source": [
    "errors = np.array(y_pred) - np.array(y_test)\n",
    "\n",
    "plt.figure(figsize=(8, 4))\n",
    "plt.hist(errors, bins=30, edgecolor='black')\n",
    "plt.title(\"Distribution of Prediction Errors\")\n",
    "plt.xlabel(\"Prediction Error (Predicted - Actual)\")\n",
    "plt.ylabel(\"Frequency\")\n",
    "plt.grid(True)\n",
    "plt.tight_layout()\n",
    "plt.show()\n",
    "\n"
   ]
  }
 ],
 "metadata": {
  "kernelspec": {
   "display_name": "base",
   "language": "python",
   "name": "python3"
  },
  "language_info": {
   "codemirror_mode": {
    "name": "ipython",
    "version": 3
   },
   "file_extension": ".py",
   "mimetype": "text/x-python",
   "name": "python",
   "nbconvert_exporter": "python",
   "pygments_lexer": "ipython3",
   "version": "3.12.9"
  }
 },
 "nbformat": 4,
 "nbformat_minor": 5
}
