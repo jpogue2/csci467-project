{
 "cells": [
  {
   "cell_type": "code",
   "execution_count": 79,
   "id": "e0e5e725",
   "metadata": {},
   "outputs": [],
   "source": [
    "import pandas as pd\n",
    "import argparse\n",
    "import numpy as np\n",
    "import matplotlib.pyplot as plt\n",
    "from sklearn.metrics import mean_squared_error\n",
    "import math\n",
    "from sklearn.linear_model import LinearRegression\n",
    "import random "
   ]
  },
  {
   "cell_type": "code",
   "execution_count": 80,
   "id": "bf2e36b0",
   "metadata": {},
   "outputs": [],
   "source": [
    "# read input file\n",
    "filepath = \"space_mountain.csv\"\n",
    "df = pd.read_csv(filepath)"
   ]
  },
  {
   "cell_type": "code",
   "execution_count": null,
   "id": "9c7ec219",
   "metadata": {},
   "outputs": [],
   "source": [
    "# one hot encode the Day of Week column\n",
    "# drop_first=True is used to avoid multicollinearity (dummy variable trap)\n",
    "df = pd.get_dummies(df, columns=['Day of Week']) "
   ]
  },
  {
   "cell_type": "code",
   "execution_count": 82,
   "id": "5f36fa49",
   "metadata": {},
   "outputs": [
    {
     "data": {
      "text/plain": [
       "((50962, 16), (19503, 16))"
      ]
     },
     "execution_count": 82,
     "metadata": {},
     "output_type": "execute_result"
    }
   ],
   "source": [
    "# ------ SPLITTING DATASET ------\n",
    "# train on 2014 (December), 2015, 2016, 2017, 2018, 2019, 2022 (excluding COVID years)\n",
    "# test on 2023, 2024, 2025 (January - March)\n",
    "train_years = ['14', '15', '16', '17', '18', '19', '22']\n",
    "test_years = ['23', '24', '25']\n",
    "\n",
    "df['Year'] = df['Date'].apply(lambda x: x.split('/')[-1])  # Extract year as a string\n",
    "df = df[df['Time of Day'] >= 450]\n",
    "df['Time_sq'] = df['Time of Day'] ** 2\n",
    "df['Time_sin'] = np.sin(2 * np.pi * df['Time of Day'] / 1440)\n",
    "df['Time_cos'] = np.cos(2 * np.pi * df['Time of Day'] / 1440)\n",
    "\n",
    "train_df = df[df['Year'].isin(train_years)]  # Filter rows where Year is in train_years\n",
    "test_df = df[df['Year'].isin(test_years)]  # Filter rows where Year is in train_years\n",
    "\n",
    "train_df.shape, test_df.shape"
   ]
  },
  {
   "cell_type": "code",
   "execution_count": null,
   "id": "e84fd3c9",
   "metadata": {},
   "outputs": [
    {
     "name": "stdout",
     "output_type": "stream",
     "text": [
      "X_train:\n",
      "   Time of Day  Day of Week_Friday  Day of Week_Monday  Day of Week_Saturday  \\\n",
      "1          450               False               False                  True   \n",
      "2          480               False               False                  True   \n",
      "3          510               False               False                  True   \n",
      "4          540               False               False                  True   \n",
      "5          570               False               False                  True   \n",
      "\n",
      "   Day of Week_Sunday  Day of Week_Thursday  Day of Week_Tuesday  \\\n",
      "1               False                 False                False   \n",
      "2               False                 False                False   \n",
      "3               False                 False                False   \n",
      "4               False                 False                False   \n",
      "5               False                 False                False   \n",
      "\n",
      "   Day of Week_Wednesday  Time_sq  Time_sin  Time_cos  \n",
      "1                  False   202500  0.923880 -0.382683  \n",
      "2                  False   230400  0.866025 -0.500000  \n",
      "3                  False   260100  0.793353 -0.608761  \n",
      "4                  False   291600  0.707107 -0.707107  \n",
      "5                  False   324900  0.608761 -0.793353  \n",
      "\n",
      "y_train (first 10):\n",
      "[ 6.  6.  6. 12. 10. 29.  7.  7. 43. 43.]\n",
      "\n",
      "X_test:\n",
      "       Time of Day  Day of Week_Friday  Day of Week_Monday  \\\n",
      "59616          480               False               False   \n",
      "59617          510               False               False   \n",
      "59618          540               False               False   \n",
      "59619          570               False               False   \n",
      "59620          600               False               False   \n",
      "\n",
      "       Day of Week_Saturday  Day of Week_Sunday  Day of Week_Thursday  \\\n",
      "59616                 False                True                 False   \n",
      "59617                 False                True                 False   \n",
      "59618                 False                True                 False   \n",
      "59619                 False                True                 False   \n",
      "59620                 False                True                 False   \n",
      "\n",
      "       Day of Week_Tuesday  Day of Week_Wednesday  Time_sq  Time_sin  Time_cos  \n",
      "59616                False                  False   230400  0.866025 -0.500000  \n",
      "59617                False                  False   260100  0.793353 -0.608761  \n",
      "59618                False                  False   291600  0.707107 -0.707107  \n",
      "59619                False                  False   324900  0.608761 -0.793353  \n",
      "59620                False                  False   360000  0.500000 -0.866025  \n",
      "\n",
      "y_test (first 10):\n",
      "[ 5. 20. 45. 45. 30. 60. 55. 65. 70. 75.]\n"
     ]
    }
   ],
   "source": [
    "# getting datasets\n",
    "y_train = train_df['Wait Time'].values\n",
    "X_train = train_df.drop(columns=['Wait Time', 'Date', 'Time', 'Year', 'Month'])\n",
    "y_test = test_df['Wait Time'].values\n",
    "X_test = test_df.drop(columns=['Wait Time', 'Date', 'Time', 'Year', 'Month'])\n",
    "\n",
    "print(\"X_train:\")\n",
    "print(X_train.head())\n",
    "\n",
    "print(\"\\ny_train (first 10):\")\n",
    "print(y_train[:10])\n",
    "\n",
    "print(\"\\nX_test:\")\n",
    "print(X_test.head())\n",
    "\n",
    "print(\"\\ny_test (first 10):\")\n",
    "print(y_test[:10])"
   ]
  },
  {
   "cell_type": "code",
   "execution_count": null,
   "id": "76b0fecc",
   "metadata": {},
   "outputs": [
    {
     "data": {
      "text/plain": [
       "array([12.89600842, 21.44039836, 28.79568769, ..., 56.82136729,\n",
       "       55.20508978, 52.99797572])"
      ]
     },
     "execution_count": 84,
     "metadata": {},
     "output_type": "execute_result"
    }
   ],
   "source": [
    "# create linear regression model\n",
    "model = LinearRegression()\n",
    "model.fit(X_train, y_train)\n",
    "\n",
    "y_pred = model.predict(X_test)\n",
    "y_pred"
   ]
  },
  {
   "cell_type": "code",
   "execution_count": 85,
   "id": "dd6495fe",
   "metadata": {},
   "outputs": [
    {
     "name": "stdout",
     "output_type": "stream",
     "text": [
      "RMSE: 17.388268014443522\n"
     ]
    }
   ],
   "source": [
    "rmse = np.sqrt(mean_squared_error(y_test, y_pred))\n",
    "\n",
    "print(\"RMSE: {}\".format(rmse))"
   ]
  },
  {
   "cell_type": "code",
   "execution_count": 86,
   "id": "33412be3",
   "metadata": {},
   "outputs": [
    {
     "data": {
      "image/png": "[encoded data removed]",
      "text/plain": [
       "<Figure size 800x400 with 1 Axes>"
      ]
     },
     "metadata": {},
     "output_type": "display_data"
    }
   ],
   "source": [
    "errors = np.array(y_pred) - np.array(y_test)\n",
    "\n",
    "plt.figure(figsize=(8, 4))\n",
    "plt.hist(errors, bins=30, edgecolor='black')\n",
    "plt.title(\"Distribution of Prediction Errors\")\n",
    "plt.xlabel(\"Prediction Error (Predicted - Actual)\")\n",
    "plt.ylabel(\"Frequency\")\n",
    "plt.grid(True)\n",
    "plt.tight_layout()\n",
    "plt.show()\n",
    "\n"
   ]
  }
 ],
 "metadata": {
  "kernelspec": {
   "display_name": "Python 3",
   "language": "python",
   "name": "python3"
  },
  "language_info": {
   "codemirror_mode": {
    "name": "ipython",
    "version": 3
   },
   "file_extension": ".py",
   "mimetype": "text/x-python",
   "name": "python",
   "nbconvert_exporter": "python",
   "pygments_lexer": "ipython3",
   "version": "3.8.0"
  }
 },
 "nbformat": 4,
 "nbformat_minor": 5
}
