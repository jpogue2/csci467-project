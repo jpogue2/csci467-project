{
 "cells": [
  {
   "cell_type": "code",
   "execution_count": 3,
   "metadata": {},
   "outputs": [],
   "source": [
    "import pandas as pd\n",
    "import numpy as np\n",
    "from sklearn.linear_model import Lasso\n",
    "from sklearn.metrics import mean_squared_error"
   ]
  },
  {
   "cell_type": "code",
   "execution_count": 4,
   "metadata": {},
   "outputs": [],
   "source": [
    "# Load dataset\n",
    "df = pd.read_csv(\"space_mountain_with_holiday_weather_lag_suite.csv\")\n",
    "\n",
    "# One-hot encode 'Day of Week'\n",
    "df = pd.get_dummies(df, columns=['Day of Week'], drop_first=True)\n",
    "\n",
    "# Extract year from date\n",
    "df['Year'] = df['Date'].apply(lambda x: x.split('/')[-1])\n",
    "\n",
    "# Filter by time of day (after park opens)\n",
    "df = df[df['Time of Day'] >= 450]"
   ]
  },
  {
   "cell_type": "code",
   "execution_count": null,
   "metadata": {},
   "outputs": [],
   "source": [
    "# Define feature list\n",
    "top_features = ['Lag1_Wait_Time', 'Lag2_Wait_Time', 'Temperature', 'Month', 'Time of Day', 'Day of Week_Saturday', 'Lag3_Wait_Time', 'RollingMean_Lag3']\n",
    "\n",
    "# Define year splits\n",
    "train_years = ['14', '15', '16', '17', '18', '19', '22']\n",
    "test_years = ['23', '24', '25']\n",
    "\n",
    "# Split data\n",
    "train_df = df[df['Year'].isin(train_years)]\n",
    "test_df = df[df['Year'].isin(test_years)]\n",
    "\n",
    "X_train = train_df[top_features]\n",
    "y_train = train_df['Wait Time']\n",
    "X_test = test_df[top_features]\n",
    "y_test = test_df['Wait Time']"
   ]
  },
  {
   "cell_type": "code",
   "execution_count": 6,
   "metadata": {},
   "outputs": [
    {
     "name": "stdout",
     "output_type": "stream",
     "text": [
      "Simplified Lasso RMSE: 17.13\n"
     ]
    }
   ],
   "source": [
    "# Train simplified Lasso model\n",
    "model = Lasso(alpha=1.0, max_iter=10000)\n",
    "model.fit(X_train, y_train)\n",
    "\n",
    "# Predict\n",
    "y_pred = model.predict(X_test)\n",
    "\n",
    "# Evaluate\n",
    "rmse = np.sqrt(mean_squared_error(y_test, y_pred))\n",
    "print(f\"Simplified Lasso RMSE: {rmse:.2f}\")"
   ]
  }
 ],
 "metadata": {
  "kernelspec": {
   "display_name": "base",
   "language": "python",
   "name": "python3"
  },
  "language_info": {
   "codemirror_mode": {
    "name": "ipython",
    "version": 3
   },
   "file_extension": ".py",
   "mimetype": "text/x-python",
   "name": "python",
   "nbconvert_exporter": "python",
   "pygments_lexer": "ipython3",
   "version": "3.12.9"
  }
 },
 "nbformat": 4,
 "nbformat_minor": 5
}
