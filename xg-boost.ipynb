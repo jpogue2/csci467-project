{
 "cells": [
  {
   "cell_type": "code",
   "execution_count": 17,
   "id": "d60fe78b",
   "metadata": {},
   "outputs": [],
   "source": [
    "from itertools import product\n",
    "from xgboost import XGBRegressor\n",
    "from sklearn.metrics import mean_squared_error\n",
    "import numpy as np\n",
    "import pandas as pd\n",
    "import matplotlib.pyplot as plt"
   ]
  },
  {
   "cell_type": "code",
   "execution_count": 18,
   "id": "b1f08397",
   "metadata": {},
   "outputs": [],
   "source": [
    "# read input file\n",
    "filepath = \"space_mountain_with_holiday_weather_lag_new.csv\"\n",
    "df = pd.read_csv(filepath)\n"
   ]
  },
  {
   "cell_type": "code",
   "execution_count": 19,
   "id": "0efa5e77",
   "metadata": {},
   "outputs": [],
   "source": [
    "# one hot encode the Day of Week column\n",
    "df = pd.get_dummies(df, columns=['Day of Week']) \n"
   ]
  },
  {
   "cell_type": "code",
   "execution_count": 20,
   "id": "9ff7fa6e",
   "metadata": {},
   "outputs": [
    {
     "name": "stdout",
     "output_type": "stream",
     "text": [
      "Train size: (30844, 26)\n",
      "Dev size: (5056, 26)\n",
      "Test size: (7142, 26)\n"
     ]
    }
   ],
   "source": [
    "# ------ SPLITTING DATASET ------\n",
    "train_years = ['14', '15', '16', '17', '18', '19', '22']\n",
    "dev_years = ['23']\n",
    "test_years = ['24', '25']\n",
    "\n",
    "df['Year'] = df['Date'].apply(lambda x: x.split('/')[-1])  # Extract year as a string\n",
    "df = df[df['Time of Day'] >= 450]\n",
    "df['Time_sq'] = df['Time of Day'] ** 2\n",
    "df['Time_sin'] = np.sin(2 * np.pi * df['Time of Day'] / 1440)\n",
    "df['Time_cos'] = np.cos(2 * np.pi * df['Time of Day'] / 1440)\n",
    "\n",
    "train_df = df[df['Year'].isin(train_years)]\n",
    "dev_df = df[df['Year'].isin(dev_years)]\n",
    "test_df = df[df['Year'].isin(test_years)]\n",
    "\n",
    "print(\"Train size:\", train_df.shape)\n",
    "print(\"Dev size:\", dev_df.shape)\n",
    "print(\"Test size:\", test_df.shape)"
   ]
  },
  {
   "cell_type": "code",
   "execution_count": 21,
   "id": "44e0c297",
   "metadata": {},
   "outputs": [],
   "source": [
    "# getting datasets\n",
    "def get_X_y(dataframe):\n",
    "    y = dataframe['Wait Time'].values\n",
    "    X = dataframe.drop(columns=['Wait Time', 'Date', 'Time', 'Year'])\n",
    "    return X, y\n",
    "\n",
    "X_train, y_train = get_X_y(train_df)\n",
    "X_dev, y_dev = get_X_y(dev_df)\n",
    "X_test, y_test = get_X_y(test_df)\n"
   ]
  },
  {
   "cell_type": "code",
   "execution_count": 22,
   "id": "10fcc089",
   "metadata": {},
   "outputs": [
    {
     "name": "stdout",
     "output_type": "stream",
     "text": [
      "Searching hyperparameters...\n",
      "\n",
      "n_estimators=100, max_depth=3, lr=0.01 → Dev RMSE: 16.87\n",
      "n_estimators=100, max_depth=3, lr=0.10 → Dev RMSE: 15.44\n",
      "n_estimators=100, max_depth=3, lr=0.20 → Dev RMSE: 15.48\n",
      "n_estimators=100, max_depth=5, lr=0.01 → Dev RMSE: 16.43\n",
      "n_estimators=100, max_depth=5, lr=0.10 → Dev RMSE: 15.40\n",
      "n_estimators=100, max_depth=5, lr=0.20 → Dev RMSE: 15.47\n",
      "n_estimators=100, max_depth=7, lr=0.01 → Dev RMSE: 16.27\n",
      "n_estimators=100, max_depth=7, lr=0.10 → Dev RMSE: 15.50\n",
      "n_estimators=100, max_depth=7, lr=0.20 → Dev RMSE: 15.58\n",
      "n_estimators=200, max_depth=3, lr=0.01 → Dev RMSE: 15.87\n",
      "n_estimators=200, max_depth=3, lr=0.10 → Dev RMSE: 15.41\n",
      "n_estimators=200, max_depth=3, lr=0.20 → Dev RMSE: 15.43\n",
      "n_estimators=200, max_depth=5, lr=0.01 → Dev RMSE: 15.61\n",
      "n_estimators=200, max_depth=5, lr=0.10 → Dev RMSE: 15.40\n",
      "n_estimators=200, max_depth=5, lr=0.20 → Dev RMSE: 15.56\n",
      "n_estimators=200, max_depth=7, lr=0.01 → Dev RMSE: 15.54\n",
      "n_estimators=200, max_depth=7, lr=0.10 → Dev RMSE: 15.59\n",
      "n_estimators=200, max_depth=7, lr=0.20 → Dev RMSE: 15.84\n",
      "\n",
      "Best hyperparameters found:\n",
      "{'n_estimators': 200, 'max_depth': 5, 'learning_rate': 0.1}\n"
     ]
    }
   ],
   "source": [
    "# Grid of hyperparameters to try\n",
    "param_grid = {\n",
    "    'n_estimators': [100, 200],\n",
    "    'max_depth': [3, 5, 7],\n",
    "    'learning_rate': [0.01, 0.1, 0.2]\n",
    "}\n",
    "\n",
    "# Create all combinations of hyperparameters\n",
    "param_combinations = list(product(param_grid['n_estimators'],\n",
    "                                  param_grid['max_depth'],\n",
    "                                  param_grid['learning_rate']))\n",
    "\n",
    "best_params = None\n",
    "best_rmse = float('inf')\n",
    "\n",
    "print(\"Searching hyperparameters...\\n\")\n",
    "\n",
    "for n_estimators, max_depth, learning_rate in param_combinations:\n",
    "    model = XGBRegressor(\n",
    "        n_estimators=n_estimators,\n",
    "        max_depth=max_depth,\n",
    "        learning_rate=learning_rate,\n",
    "        random_state=42,\n",
    "        verbosity=0\n",
    "    )\n",
    "    model.fit(X_train, y_train)\n",
    "    y_dev_pred = model.predict(X_dev)\n",
    "    rmse = np.sqrt(mean_squared_error(y_dev, y_dev_pred))\n",
    "    print(f\"n_estimators={n_estimators}, max_depth={max_depth}, lr={learning_rate:.2f} → Dev RMSE: {rmse:.2f}\")\n",
    "\n",
    "    if rmse < best_rmse:\n",
    "        best_rmse = rmse\n",
    "        best_params = {\n",
    "            'n_estimators': n_estimators,\n",
    "            'max_depth': max_depth,\n",
    "            'learning_rate': learning_rate\n",
    "        }\n",
    "\n",
    "# Retrain best model on train+dev\n",
    "print(\"\\nBest hyperparameters found:\")\n",
    "print(best_params)\n"
   ]
  },
  {
   "cell_type": "code",
   "execution_count": 23,
   "id": "8e29de56",
   "metadata": {},
   "outputs": [
    {
     "name": "stdout",
     "output_type": "stream",
     "text": [
      "\n",
      "Test RMSE with best model: 14.62\n"
     ]
    }
   ],
   "source": [
    "X_train_dev = pd.concat([X_train, X_dev])\n",
    "y_train_dev = np.concatenate([y_train, y_dev])\n",
    "\n",
    "best_model = XGBRegressor(\n",
    "    **best_params,\n",
    "    random_state=42,\n",
    "    verbosity=0\n",
    ")\n",
    "best_model.fit(X_train_dev, y_train_dev)\n",
    "\n",
    "# Test evaluation\n",
    "y_test_pred = best_model.predict(X_test)\n",
    "rmse_test = np.sqrt(mean_squared_error(y_test, y_test_pred))\n",
    "print(f\"\\nTest RMSE with best model: {rmse_test:.2f}\")"
   ]
  },
  {
   "cell_type": "code",
   "execution_count": 24,
   "id": "26a01dcb",
   "metadata": {},
   "outputs": [
    {
     "data": {
      "image/png": "[encoded data removed]",
      "text/plain": [
       "<Figure size 800x400 with 1 Axes>"
      ]
     },
     "metadata": {},
     "output_type": "display_data"
    }
   ],
   "source": [
    "# Plot test error distribution\n",
    "errors = y_test_pred - y_test\n",
    "plt.figure(figsize=(8, 4))\n",
    "plt.hist(errors, bins=30, edgecolor='black')\n",
    "plt.title(\"Prediction Errors on Test Set (Best XGBoost Model)\")\n",
    "plt.xlabel(\"Prediction Error (Predicted - Actual)\")\n",
    "plt.ylabel(\"Frequency\")\n",
    "plt.grid(True)\n",
    "plt.tight_layout()\n",
    "plt.show()"
   ]
  }
 ],
 "metadata": {
  "kernelspec": {
   "display_name": "base",
   "language": "python",
   "name": "python3"
  },
  "language_info": {
   "codemirror_mode": {
    "name": "ipython",
    "version": 3
   },
   "file_extension": ".py",
   "mimetype": "text/x-python",
   "name": "python",
   "nbconvert_exporter": "python",
   "pygments_lexer": "ipython3",
   "version": "3.12.9"
  }
 },
 "nbformat": 4,
 "nbformat_minor": 5
}
