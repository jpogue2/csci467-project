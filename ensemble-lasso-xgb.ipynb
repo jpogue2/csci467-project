{
 "cells": [
  {
   "cell_type": "code",
   "execution_count": 1,
   "metadata": {},
   "outputs": [],
   "source": [
    "import pandas as pd\n",
    "import numpy as np\n",
    "from sklearn.linear_model import Lasso\n",
    "from sklearn.metrics import mean_squared_error\n",
    "from sklearn.preprocessing import StandardScaler\n",
    "from xgboost import XGBRegressor"
   ]
  },
  {
   "cell_type": "code",
   "execution_count": 2,
   "metadata": {},
   "outputs": [],
   "source": [
    "# Load data\n",
    "df = pd.read_csv(\"space_mountain_with_holiday_weather_lag_suite.csv\")\n",
    "\n",
    "# Extract year\n",
    "df['Year'] = df['Date'].apply(lambda x: x.split('/')[-1])\n",
    "df = df[df['Time of Day'] >= 450]\n",
    "\n",
    "# One-hot encode Day of Week\n",
    "df = pd.get_dummies(df, columns=['Day of Week'], drop_first=True)\n",
    "\n",
    "# Interaction features\n",
    "df['Lag1_x_Temp'] = df['Lag1_Wait_Time'] * df['Temperature']\n",
    "df['Holiday_x_Time'] = df['Is_Holiday'].astype(int) * df['Time of Day']\n",
    "df['Rain'] = (df['Precipitation'] > 0.1).astype(int)\n",
    "df['Time_sq'] = df['Time of Day'] ** 2\n",
    "\n",
    "# Train/test split\n",
    "train_years = ['14', '15', '16', '17', '18', '19', '22']\n",
    "test_years = ['23', '24', '25']\n",
    "train_df = df[df['Year'].isin(train_years)]\n",
    "test_df = df[df['Year'].isin(test_years)]\n",
    "\n",
    "# Define features and target\n",
    "drop_cols = ['Wait Time', 'Date', 'Time', 'Year', 'Month']\n",
    "X_train = train_df.drop(columns=drop_cols)\n",
    "y_train = train_df['Wait Time']\n",
    "X_test = test_df.drop(columns=drop_cols)\n",
    "y_test = test_df['Wait Time']"
   ]
  },
  {
   "cell_type": "code",
   "execution_count": 3,
   "metadata": {},
   "outputs": [],
   "source": [
    "# Lasso requires scaled features\n",
    "scaler = StandardScaler()\n",
    "X_train_scaled = scaler.fit_transform(X_train)\n",
    "X_test_scaled = scaler.transform(X_test)\n",
    "\n",
    "# Lasso\n",
    "lasso = Lasso(alpha=1.0, max_iter=10000)\n",
    "lasso.fit(X_train_scaled, y_train)\n",
    "lasso_pred = lasso.predict(X_test_scaled)\n",
    "\n",
    "# XGBoost\n",
    "xgb = XGBRegressor(n_estimators=100, learning_rate=0.1, max_depth=6, random_state=42)\n",
    "xgb.fit(X_train, y_train)\n",
    "xgb_pred = xgb.predict(X_test)"
   ]
  },
  {
   "cell_type": "code",
   "execution_count": 4,
   "metadata": {},
   "outputs": [
    {
     "name": "stdout",
     "output_type": "stream",
     "text": [
      "Ensemble RMSE (alpha=0.5): 16.61\n"
     ]
    }
   ],
   "source": [
    "# Blend weight (alpha)\n",
    "alpha = 0.5\n",
    "\n",
    "# Ensemble prediction\n",
    "ensemble_pred = alpha * lasso_pred + (1 - alpha) * xgb_pred\n",
    "\n",
    "# Evaluate RMSE\n",
    "rmse = np.sqrt(mean_squared_error(y_test, ensemble_pred))\n",
    "print(f\"Ensemble RMSE (alpha={alpha}): {rmse:.2f}\")"
   ]
  },
  {
   "cell_type": "code",
   "execution_count": null,
   "id": "31c18eb7",
   "metadata": {},
   "outputs": [],
   "source": [
    "# Sweep through alpha values and track RMSE\n",
    "best_alpha = None\n",
    "best_rmse = float(\"inf\")\n",
    "\n",
    "print(\"Alpha Tuning Results:\")\n",
    "for alpha in np.arange(0.0, 1.05, 0.05):\n",
    "    ensemble_pred = alpha * lasso_pred + (1 - alpha) * xgb_pred\n",
    "    rmse = np.sqrt(mean_squared_error(y_test, ensemble_pred))\n",
    "    print(f\"  alpha = {alpha:.2f} → RMSE = {rmse:.4f}\")\n",
    "    \n",
    "    if rmse < best_rmse:\n",
    "        best_rmse = rmse\n",
    "        best_alpha = alpha\n",
    "\n",
    "print(f\"\\n✅ Best alpha: {best_alpha:.2f} with RMSE = {best_rmse:.4f}\")\n"
   ]
  }
 ],
 "metadata": {
  "kernelspec": {
   "display_name": "base",
   "language": "python",
   "name": "python3"
  },
  "language_info": {
   "codemirror_mode": {
    "name": "ipython",
    "version": 3
   },
   "file_extension": ".py",
   "mimetype": "text/x-python",
   "name": "python",
   "nbconvert_exporter": "python",
   "pygments_lexer": "ipython3",
   "version": "3.12.9"
  }
 },
 "nbformat": 4,
 "nbformat_minor": 5
}
